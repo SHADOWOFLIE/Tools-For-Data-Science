{
 "cells": [
  {
   "cell_type": "markdown",
   "id": "57406643-ca60-45dd-aa50-a0095be4b996",
   "metadata": {},
   "source": [
    "first page of notbook\n"
   ]
  },
  {
   "cell_type": "markdown",
   "id": "ca07c994-bcaf-4dac-8cc5-c533d4983fed",
   "metadata": {},
   "source": [
    "                                                        Tools for Data Science  "
   ]
  },
  {
   "cell_type": "markdown",
   "id": "57c7b32c-75d6-45e0-a32d-7bedd2c946b9",
   "metadata": {},
   "source": [
    "                                                            INTRODUCTION\n",
    "\n",
    "Data science involves various tools that aid in the collection, analysis, and visualization of data. Here's an introduction to some commonly used tools in the field of data science:\r\n",
    "1. \r\n",
    "Jupyter Notebooksm2. ent.\r\n",
    "RStn3. agement.\r\n",
    "Python (with NumPy, Pandas, Matplotlib, and i4. sualization.\r\n",
    "Ab5. uted processina6. nd graph processing.\r\n",
    "SQL (Struc\n",
    "i7. th relatii8. de range of data connectt9. raining 10. and va\n",
    "ty of plugins for extended functionality.\r\n",
    "These tools cater to different aspects of the data science workflow, from data cleaning and exploration to machine learning model development and deployment. The choice of tools often depends on the specific needs and preferences of data scientists and analysts."
   ]
  },
  {
   "cell_type": "markdown",
   "id": "79159498-8b9f-4b80-88aa-6c55fa50ce5c",
   "metadata": {},
   "source": [
    "\n",
    "                                                 list data science languages\n",
    "\n",
    "There are several programming languages commonly used in the field of data science. Here are some of the prominent ones:\r\n",
    "1. \r\n",
    "Python: Widely popular for its simplicity and extensive libraries like NumPy, Pandas, and scikit-learn. Python is the go-to language for many data scientists.2. \r\n",
    "\r\n",
    "R: Specifically designed for statistical computing and graphics, R is favored for its robust statistical packages and visualization capabilitie3. s.\r\n",
    "\r\n",
    "SQL: Although not a traditional programming language, SQL (Structured Query Language) is crucial for managing and querying databases, which is a fundamental aspect of data scie4. nce.\r\n",
    "\r\n",
    "Java: Known for its versatility, Java is used in big data processing frameworks like Apache H5. adoop.\r\n",
    "\r\n",
    "Julia: Gaining popularity for its speed and efficiency, Julia is used for high-performance numerical and scientific co6. mputing.\r\n",
    "\r\n",
    "Scala: Often used in conjunction with Apache Spark, Scala is a language that combines object-oriented and functional programming7.  features.\r\n",
    "\r\n",
    "MATLAB: Widely used in academia and industry, MATLAB is known for its numerical computing and data visualization c8. apabilities.\r\n",
    "\r\n",
    "SAS: A software suite used for advanced analytics, business intelligence, and data management."
   ]
  },
  {
   "cell_type": "markdown",
   "id": "f93352a4-ac06-4699-a0f7-5ed94239680a",
   "metadata": {},
   "source": [
    "                                                        Data Science libraries\n",
    "\r\n",
    "Data science relies on a plethora of libraries that provide specialized functions for tasks such as data manipulation, analysis, and machine learning. Here's an introduction to some popular data science libraries in Python:\r",
    "1. \n",
    "\r\n",
    "Num \n",
    "a2. tion.\r\n",
    "Pf3. unctions.\r\n",
    "Mo4. ns in Pytt5. istical graphid6.  learning all7.  network a8. tional m9. enting with deep learning models\n",
    " 10. stemming, tage11. stimating and t it easy to scrape information from web pages."
   ]
  },
  {
   "cell_type": "markdown",
   "id": "5b304c32-17d7-4081-a50a-60dcb4a59b32",
   "metadata": {},
   "source": [
    "                                                            Data Sciecne Tools\n",
    "  \n",
    "Data science involves the use of various tools to collect, analyze, and interpret data. Here's an overview of some commonly used tools across different stages of the data science workflow:\n",
    "\n",
    "1. Jupyter Notebooks:\n",
    "\n",
    "2. RStudio:\n",
    "\n",
    "3. Python (with NumPy, Pandas, Matplotlib, and Seaborn):\n",
    "\n",
    "4. Apache Hadoop:\n",
    "\n",
    "5. Apache Spark:\n",
    "\n",
    "6. SQL (Structured Query Language):\n",
    "\n",
    "7. Tableau:\n",
    "\n",
    "8. TensorFlow and PyTorch:\n",
    "\n",
    "9. Excel:\n",
    "\n",
    "10. KNIME:\n",
    "\n",
    "11. Git or GitHub"
   ]
  },
  {
   "cell_type": "markdown",
   "id": "e5883d86-a1fb-44bf-9ac7-83c0883de23a",
   "metadata": {},
   "source": [
    "                                                   Intoducing Arithmetic Expression Examples\n",
    "\r\n",
    "Certainly! Arithmetic expressions involve mathematical operations and symbols to represent calculations. Let's introduce some examples:\r",
    "1. \n",
    "\r\n",
    "Basic Arithmet\n",
    ":\r\n",
    "\r\n",
    "Exam\n",
    "3\r\n",
    "+\r\n",
    "5\r\n",
    "3+5\r\n",
    "Interpretation: Addition of 3 and 5, result\n",
    "2. ing in 8.\r\n",
    "Sutraction:mple: \r\n",
    "10\r\n",
    "−\r\n",
    "4\r\n",
    "10−4\r\n",
    "Interpretation: Subtracting 4 from 10\n",
    "3. , resulting in 6\r\n",
    "Multipln:\r\n",
    "\r\n",
    "Example: \r\n",
    "6\r\n",
    "×\r\n",
    "7\r\n",
    "6×7\r\n",
    "Interpretation: Multiplying\n",
    "4.  6 by 7, rsulting in 4/.n:\r\n",
    "\r\n",
    "Example: \r\n",
    "15\r\n",
    "3\r\n",
    "3\r\n",
    "15\r\n",
    "​\r\n",
    " \r\n",
    "Interpretation\n",
    "5. : Dividing 15 by3, resulti2**4\r",
    "xponentiation:\r\n",
    "\r\n",
    "Example: \r\n",
    "2\r\n",
    "4\r\n",
    "2 \r\n",
    "4\r\n",
    " \r\n",
    "Interpretation: R\n",
    "6. aising 2 to te power o in 16.\r\n",
    "Parentheses:\r\n",
    "\r\n",
    "Example: \r\n",
    "(\r\n",
    "4\r\n",
    "+\r\n",
    "3\r\n",
    ")\r\n",
    "×\r\n",
    "2\r\n",
    "(4+3)×2\r\n",
    "Interpret\n",
    "7. ation: Adding 4 and , then mu.\r\n",
    "Comple/(5-1)x ression:\r\n",
    "\r\n",
    "Example: \r\n",
    "(\r\n",
    "10\r\n",
    "+\r\n",
    "3\r\n",
    ")\r\n",
    "×\r\n",
    "2\r\n",
    "5\r\n",
    "−\r\n",
    "1\r\n",
    "5−1\r\n",
    "(10+3)×2\r\n",
    "​\r\n",
    " \r\n",
    "Interpretation: Adding 10 and 3, mul\n",
    "8. tiplying the resultby 2, andthe subtraction of 5 and 1.\r\n",
    "Mix of Operations:\r\n",
    "\r\n",
    "Example: \r\n",
    "3\r\n",
    "×\r\n",
    "(\r\n",
    "7\r\n",
    "−\r\n",
    "2\r\n",
    ")\r\n",
    "+\r\n",
    "4\r\n",
    "3×(7−2)+\n",
    "4\r\n",
    "Interpretation: Subtracting 2 from 7, multiplying the result by 3, and then adding 4.\r\n",
    "These examples showcase the fundamental arithmetic operations (addition, subtraction, multiplication, division) along with exponentiation and the use of parentheses to control the order of operations. Arithmetic expressions are the building blocks of mathematical calculations and are widely used in various fields, including computer science, physics, and finance."
   ]
  },
  {
   "cell_type": "code",
   "execution_count": 1,
   "id": "f3a241fd-50dc-413f-a757-538eca58ebdb",
   "metadata": {},
   "outputs": [
    {
     "name": "stdout",
     "output_type": "stream",
     "text": [
      "19\n",
      "90\n"
     ]
    }
   ],
   "source": [
    "a=10\n",
    "b=9\n",
    "\n",
    "print(a+b)\n",
    "print(a*b)"
   ]
  },
  {
   "cell_type": "code",
   "execution_count": 2,
   "id": "f7ea5b24-329e-4883-8f90-43369cfeaaeb",
   "metadata": {},
   "outputs": [
    {
     "name": "stdin",
     "output_type": "stream",
     "text": [
      "hours 5\n"
     ]
    },
    {
     "name": "stdout",
     "output_type": "stream",
     "text": [
      "minutes  300\n"
     ]
    }
   ],
   "source": [
    "a=int(input(\"hours\"))\n",
    "b = a*60\n",
    "\n",
    "print(\"minutes \", b)"
   ]
  },
  {
   "cell_type": "markdown",
   "id": "a26ba992-d3e6-466f-9775-480ac550e05b",
   "metadata": {},
   "source": [
    "                                                                Objectives\n",
    "\r\n",
    "The objectives of tools used in data science are diverse and cater to different stages of the data science workflow. Here are the key objectives of various tools commonly employed in data science:\r",
    "1. \n",
    "\r\n",
    "Jupyter Noteboo\n",
    ":\r\n",
    "\r\n",
    "Objective: Enable interactive and collaborative data analysis by integrating code, visualizations, and explanatory text in a single docum\n",
    "2. ent.\r\n",
    "RStdio:\r\n",
    "\r\n",
    "Objective: Provide an integrated development environment (IDE) for R programming, streamlining coding, and facilitating data analysis, visualization, and package mana\n",
    "3. gement.\r\n",
    "Python (with NumPy, Pandas, Matplotlib, and sciki\n",
    "learn):\r\n",
    "\r\n",
    "Objective: Offer a versatile programming language and libraries for efficient data manipulation, analysis, and machine learning model de\n",
    "4. velopment.\r\n",
    "Apahe Hadoop:\r\n",
    "\r\n",
    "Objective: Enable distributed storage and processing of large datasets, supporting scalability and fau\n",
    "5. lt tolerance.\r",
    "Apache Spark:\r\n",
    "\r\n",
    "Objective: Facilitate in-memory, distributed data processing with support for various languages and libraries for SQL, machine learning, and g\n",
    "6. raph processing.\r\n",
    "SQL (StructuredQuery Language):\r\n",
    "\r\n",
    "Objective: Provide a standardized language for querying and managing relational databases, facilitating data retrieva\n",
    "7. l and manSpulation.\r\n",
    "Tableau:\r\n",
    "\r\n",
    "Objective: Enable intuitive data visualization and business intelligence, allowing users to create interactive dashboards and reports."
   ]
  },
  {
   "cell_type": "markdown",
   "id": "0d8353c7-998d-442a-ad8d-b5aadc1867f9",
   "metadata": {},
   "source": [
    "\n",
    " ~BY YASH UPADHYAY"
   ]
  }
 ],
 "metadata": {
  "kernelspec": {
   "display_name": "Python 3 (ipykernel)",
   "language": "python",
   "name": "python3"
  },
  "language_info": {
   "codemirror_mode": {
    "name": "ipython",
    "version": 3
   },
   "file_extension": ".py",
   "mimetype": "text/x-python",
   "name": "python",
   "nbconvert_exporter": "python",
   "pygments_lexer": "ipython3",
   "version": "3.11.5"
  }
 },
 "nbformat": 4,
 "nbformat_minor": 5
}
